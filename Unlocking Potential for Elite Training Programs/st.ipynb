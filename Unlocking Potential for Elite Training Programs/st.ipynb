{
  "nbformat": 4,
  "nbformat_minor": 0,
  "metadata": {
    "colab": {
      "provenance": []
    },
    "kernelspec": {
      "name": "python3",
      "display_name": "Python 3"
    },
    "language_info": {
      "name": "python"
    }
  },
  "cells": [
    {
      "cell_type": "code",
      "execution_count": 5,
      "metadata": {
        "id": "jpqqhKl7y0ng"
      },
      "outputs": [],
      "source": [
        "import pandas as pd\n",
        "import numpy as np\n",
        "from sklearn.preprocessing import LabelEncoder,OrdinalEncoder"
      ]
    },
    {
      "cell_type": "code",
      "source": [
        "train=pd.read_csv('train.csv')\n",
        "test=pd.read_csv('test.csv')\n",
        "ss=pd.read_csv('sample_submission.csv')\n",
        "regist=pd.read_csv('registration.csv')"
      ],
      "metadata": {
        "id": "5jdrxZEezD0P"
      },
      "execution_count": 6,
      "outputs": []
    },
    {
      "cell_type": "code",
      "source": [
        "df = pd.DataFrame(np.arange(1, 819))\n",
        "test['ID']=df\n",
        "dfs = pd.DataFrame(np.arange(1, 6549))\n",
        "train['ID']=dfs"
      ],
      "metadata": {
        "id": "h8CwcgTUlmTp"
      },
      "execution_count": 7,
      "outputs": []
    },
    {
      "cell_type": "code",
      "source": [
        "train.drop(['Program ID','Student ID','Student ID','Program Main Category Code','Program Sub Category Code','Program Start Date','Program End Date'],axis=1,inplace=True)\n",
        "test.drop(['Program ID','Student ID','Student ID','Program Main Category Code','Program Sub Category Code','Program Start Date','Program End Date'],axis=1,inplace=True)"
      ],
      "metadata": {
        "id": "kjXwB_LTfkmv"
      },
      "execution_count": 8,
      "outputs": []
    },
    {
      "cell_type": "code",
      "source": [
        "train.shape"
      ],
      "metadata": {
        "colab": {
          "base_uri": "https://localhost:8080/"
        },
        "id": "KCJ-CI52lgLi",
        "outputId": "b842bcff-c1c1-4205-bd75-eb4ec75e2306"
      },
      "execution_count": 9,
      "outputs": [
        {
          "output_type": "execute_result",
          "data": {
            "text/plain": [
              "(6548, 19)"
            ]
          },
          "metadata": {},
          "execution_count": 9
        }
      ]
    },
    {
      "cell_type": "code",
      "source": [
        "test.shape"
      ],
      "metadata": {
        "colab": {
          "base_uri": "https://localhost:8080/"
        },
        "id": "jq4FtOdemLn4",
        "outputId": "5652f573-6639-4aa9-afb7-2b560812d7d2"
      },
      "execution_count": 10,
      "outputs": [
        {
          "output_type": "execute_result",
          "data": {
            "text/plain": [
              "(818, 18)"
            ]
          },
          "metadata": {},
          "execution_count": 10
        }
      ]
    },
    {
      "cell_type": "code",
      "source": [
        "#The cardinality of each catgorical feature (Training)\n",
        "cat_cols = list(train.select_dtypes(include=['object']).columns)\n",
        "for col in cat_cols:\n",
        "    print(col, train[col].nunique())"
      ],
      "metadata": {
        "id": "7npk6-EC2nIa",
        "colab": {
          "base_uri": "https://localhost:8080/"
        },
        "outputId": "7f28e769-a51a-49b0-f1de-06a935c7d0ff"
      },
      "execution_count": 11,
      "outputs": [
        {
          "output_type": "stream",
          "name": "stdout",
          "text": [
            "Gender 2\n",
            "Home Region 13\n",
            "Home City 92\n",
            "Technology Type 3\n",
            "Program Skill Level 3\n",
            "Program Presentation Method 2\n",
            "Completed Degree 2\n",
            "Level of Education 5\n",
            "Education Speaciality 871\n",
            "College 9\n",
            "Employment Status 6\n",
            "Job Type 4\n",
            "Still Working 2\n"
          ]
        }
      ]
    },
    {
      "cell_type": "code",
      "source": [
        "feats= ['Gender','Home Region','Home City','Technology Type','Program Skill Level','Program Presentation Method'\n",
        "        ,'Completed Degree','Level of Education','Education Speaciality'\n",
        "        ,'College','Employment Status','Job Type','Still Working']\n",
        "le=LabelEncoder()\n",
        "df=train\n",
        "for f in feats :\n",
        "    le.fit(df[f])\n",
        "    train[f]=le.transform(train[f])"
      ],
      "metadata": {
        "id": "jm5xpo2a_CpL"
      },
      "execution_count": 12,
      "outputs": []
    },
    {
      "cell_type": "code",
      "source": [
        "df=test\n",
        "for f in feats :\n",
        "    le.fit(df[f])\n",
        "    test[f]=le.transform(test[f])"
      ],
      "metadata": {
        "id": "CtJK53A0EoTy"
      },
      "execution_count": 13,
      "outputs": []
    },
    {
      "cell_type": "code",
      "source": [
        "train.info()"
      ],
      "metadata": {
        "colab": {
          "base_uri": "https://localhost:8080/"
        },
        "id": "Q4b1d0mvEefS",
        "outputId": "f3acf4db-599c-4066-d040-7eed00219553"
      },
      "execution_count": 14,
      "outputs": [
        {
          "output_type": "stream",
          "name": "stdout",
          "text": [
            "<class 'pandas.core.frame.DataFrame'>\n",
            "RangeIndex: 6548 entries, 0 to 6547\n",
            "Data columns (total 19 columns):\n",
            " #   Column                          Non-Null Count  Dtype  \n",
            "---  ------                          --------------  -----  \n",
            " 0   Age                             6456 non-null   float64\n",
            " 1   Gender                          6548 non-null   int64  \n",
            " 2   Home Region                     6548 non-null   int64  \n",
            " 3   Home City                       6548 non-null   int64  \n",
            " 4   Technology Type                 6548 non-null   int64  \n",
            " 5   Program Skill Level             6548 non-null   int64  \n",
            " 6   Program Presentation Method     6548 non-null   int64  \n",
            " 7   Program Days                    6548 non-null   int64  \n",
            " 8   Completed Degree                6548 non-null   int64  \n",
            " 9   Level of Education              6548 non-null   int64  \n",
            " 10  Education Speaciality           6548 non-null   int64  \n",
            " 11  College                         6548 non-null   int64  \n",
            " 12  University Degree Score         6467 non-null   float64\n",
            " 13  University Degree Score System  6467 non-null   float64\n",
            " 14  Employment Status               6548 non-null   int64  \n",
            " 15  Job Type                        6548 non-null   int64  \n",
            " 16  Still Working                   6548 non-null   int64  \n",
            " 17  Y                               6548 non-null   int64  \n",
            " 18  ID                              6548 non-null   int64  \n",
            "dtypes: float64(3), int64(16)\n",
            "memory usage: 972.1 KB\n"
          ]
        }
      ]
    },
    {
      "cell_type": "code",
      "source": [
        "test.info()"
      ],
      "metadata": {
        "colab": {
          "base_uri": "https://localhost:8080/"
        },
        "id": "eLYJXS77EjvG",
        "outputId": "59b3318f-a498-46a3-931b-4e0743b4ad9d"
      },
      "execution_count": 15,
      "outputs": [
        {
          "output_type": "stream",
          "name": "stdout",
          "text": [
            "<class 'pandas.core.frame.DataFrame'>\n",
            "RangeIndex: 818 entries, 0 to 817\n",
            "Data columns (total 18 columns):\n",
            " #   Column                          Non-Null Count  Dtype  \n",
            "---  ------                          --------------  -----  \n",
            " 0   Age                             804 non-null    float64\n",
            " 1   Gender                          818 non-null    int64  \n",
            " 2   Home Region                     818 non-null    int64  \n",
            " 3   Home City                       818 non-null    int64  \n",
            " 4   Technology Type                 818 non-null    int64  \n",
            " 5   Program Skill Level             818 non-null    int64  \n",
            " 6   Program Presentation Method     818 non-null    int64  \n",
            " 7   Program Days                    818 non-null    int64  \n",
            " 8   Completed Degree                818 non-null    int64  \n",
            " 9   Level of Education              818 non-null    int64  \n",
            " 10  Education Speaciality           818 non-null    int64  \n",
            " 11  College                         818 non-null    int64  \n",
            " 12  University Degree Score         807 non-null    float64\n",
            " 13  University Degree Score System  807 non-null    float64\n",
            " 14  Employment Status               818 non-null    int64  \n",
            " 15  Job Type                        818 non-null    int64  \n",
            " 16  Still Working                   818 non-null    int64  \n",
            " 17  ID                              818 non-null    int64  \n",
            "dtypes: float64(3), int64(15)\n",
            "memory usage: 115.2 KB\n"
          ]
        }
      ]
    },
    {
      "cell_type": "code",
      "source": [
        "train.describe()"
      ],
      "metadata": {
        "colab": {
          "base_uri": "https://localhost:8080/",
          "height": 372
        },
        "id": "uoO7ywSrJ4Vg",
        "outputId": "6816fb4e-9a44-4d77-e7e8-ffdaac362f6d"
      },
      "execution_count": 18,
      "outputs": [
        {
          "output_type": "execute_result",
          "data": {
            "text/plain": [
              "               Age       Gender  Home Region    Home City  Technology Type  \\\n",
              "count  6456.000000  6548.000000  6548.000000  6548.000000      6548.000000   \n",
              "mean     26.831165     0.440440     4.685247    28.030696         1.566891   \n",
              "std       5.535967     0.496478     2.629575    15.485804         1.406834   \n",
              "min      18.000000     0.000000     0.000000     0.000000         0.000000   \n",
              "25%      23.000000     0.000000     4.000000    23.000000         0.000000   \n",
              "50%      25.000000     0.000000     4.000000    23.000000         2.000000   \n",
              "75%      29.000000     1.000000     4.000000    23.000000         3.000000   \n",
              "max      57.000000     1.000000    13.000000    92.000000         3.000000   \n",
              "\n",
              "       Program Skill Level  Program Presentation Method  Program Days  \\\n",
              "count          6548.000000                  6548.000000   6548.000000   \n",
              "mean              1.514050                     0.241906     19.691662   \n",
              "std               1.175569                     0.428270     32.112061   \n",
              "min               0.000000                     0.000000      3.000000   \n",
              "25%               0.000000                     0.000000      5.000000   \n",
              "50%               2.000000                     0.000000     12.000000   \n",
              "75%               3.000000                     0.000000     19.000000   \n",
              "max               3.000000                     1.000000    292.000000   \n",
              "\n",
              "       Completed Degree  Level of Education  Education Speaciality  \\\n",
              "count       6548.000000         6548.000000            6548.000000   \n",
              "mean           0.795052            0.462279             559.466097   \n",
              "std            0.403695            1.128229             219.562633   \n",
              "min            0.000000            0.000000               0.000000   \n",
              "25%            1.000000            0.000000             487.000000   \n",
              "50%            1.000000            0.000000             651.000000   \n",
              "75%            1.000000            0.000000             738.000000   \n",
              "max            1.000000            5.000000             871.000000   \n",
              "\n",
              "           College  University Degree Score  University Degree Score System  \\\n",
              "count  6548.000000              6467.000000                     6467.000000   \n",
              "mean      8.322694                 8.224432                        9.773929   \n",
              "std       1.515419                19.120384                       21.259962   \n",
              "min       0.000000                 0.000000                        4.000000   \n",
              "25%       8.000000                 3.300000                        5.000000   \n",
              "50%       9.000000                 4.000000                        5.000000   \n",
              "75%       9.000000                 4.510000                        5.000000   \n",
              "max       9.000000               100.000000                      100.000000   \n",
              "\n",
              "       Employment Status     Job Type  Still Working            Y           ID  \n",
              "count        6548.000000  6548.000000    6548.000000  6548.000000  6548.000000  \n",
              "mean            2.975107     3.455712       1.585217     0.158674  3274.500000  \n",
              "std             1.778430     1.087732       0.683597     0.365400  1890.389113  \n",
              "min             0.000000     0.000000       0.000000     0.000000     1.000000  \n",
              "25%             1.000000     3.000000       1.000000     0.000000  1637.750000  \n",
              "50%             4.000000     4.000000       2.000000     0.000000  3274.500000  \n",
              "75%             4.000000     4.000000       2.000000     0.000000  4911.250000  \n",
              "max             6.000000     4.000000       2.000000     1.000000  6548.000000  "
            ],
            "text/html": [
              "\n",
              "  <div id=\"df-4447becb-71c7-406f-9511-fe8674417fb3\" class=\"colab-df-container\">\n",
              "    <div>\n",
              "<style scoped>\n",
              "    .dataframe tbody tr th:only-of-type {\n",
              "        vertical-align: middle;\n",
              "    }\n",
              "\n",
              "    .dataframe tbody tr th {\n",
              "        vertical-align: top;\n",
              "    }\n",
              "\n",
              "    .dataframe thead th {\n",
              "        text-align: right;\n",
              "    }\n",
              "</style>\n",
              "<table border=\"1\" class=\"dataframe\">\n",
              "  <thead>\n",
              "    <tr style=\"text-align: right;\">\n",
              "      <th></th>\n",
              "      <th>Age</th>\n",
              "      <th>Gender</th>\n",
              "      <th>Home Region</th>\n",
              "      <th>Home City</th>\n",
              "      <th>Technology Type</th>\n",
              "      <th>Program Skill Level</th>\n",
              "      <th>Program Presentation Method</th>\n",
              "      <th>Program Days</th>\n",
              "      <th>Completed Degree</th>\n",
              "      <th>Level of Education</th>\n",
              "      <th>Education Speaciality</th>\n",
              "      <th>College</th>\n",
              "      <th>University Degree Score</th>\n",
              "      <th>University Degree Score System</th>\n",
              "      <th>Employment Status</th>\n",
              "      <th>Job Type</th>\n",
              "      <th>Still Working</th>\n",
              "      <th>Y</th>\n",
              "      <th>ID</th>\n",
              "    </tr>\n",
              "  </thead>\n",
              "  <tbody>\n",
              "    <tr>\n",
              "      <th>count</th>\n",
              "      <td>6456.000000</td>\n",
              "      <td>6548.000000</td>\n",
              "      <td>6548.000000</td>\n",
              "      <td>6548.000000</td>\n",
              "      <td>6548.000000</td>\n",
              "      <td>6548.000000</td>\n",
              "      <td>6548.000000</td>\n",
              "      <td>6548.000000</td>\n",
              "      <td>6548.000000</td>\n",
              "      <td>6548.000000</td>\n",
              "      <td>6548.000000</td>\n",
              "      <td>6548.000000</td>\n",
              "      <td>6467.000000</td>\n",
              "      <td>6467.000000</td>\n",
              "      <td>6548.000000</td>\n",
              "      <td>6548.000000</td>\n",
              "      <td>6548.000000</td>\n",
              "      <td>6548.000000</td>\n",
              "      <td>6548.000000</td>\n",
              "    </tr>\n",
              "    <tr>\n",
              "      <th>mean</th>\n",
              "      <td>26.831165</td>\n",
              "      <td>0.440440</td>\n",
              "      <td>4.685247</td>\n",
              "      <td>28.030696</td>\n",
              "      <td>1.566891</td>\n",
              "      <td>1.514050</td>\n",
              "      <td>0.241906</td>\n",
              "      <td>19.691662</td>\n",
              "      <td>0.795052</td>\n",
              "      <td>0.462279</td>\n",
              "      <td>559.466097</td>\n",
              "      <td>8.322694</td>\n",
              "      <td>8.224432</td>\n",
              "      <td>9.773929</td>\n",
              "      <td>2.975107</td>\n",
              "      <td>3.455712</td>\n",
              "      <td>1.585217</td>\n",
              "      <td>0.158674</td>\n",
              "      <td>3274.500000</td>\n",
              "    </tr>\n",
              "    <tr>\n",
              "      <th>std</th>\n",
              "      <td>5.535967</td>\n",
              "      <td>0.496478</td>\n",
              "      <td>2.629575</td>\n",
              "      <td>15.485804</td>\n",
              "      <td>1.406834</td>\n",
              "      <td>1.175569</td>\n",
              "      <td>0.428270</td>\n",
              "      <td>32.112061</td>\n",
              "      <td>0.403695</td>\n",
              "      <td>1.128229</td>\n",
              "      <td>219.562633</td>\n",
              "      <td>1.515419</td>\n",
              "      <td>19.120384</td>\n",
              "      <td>21.259962</td>\n",
              "      <td>1.778430</td>\n",
              "      <td>1.087732</td>\n",
              "      <td>0.683597</td>\n",
              "      <td>0.365400</td>\n",
              "      <td>1890.389113</td>\n",
              "    </tr>\n",
              "    <tr>\n",
              "      <th>min</th>\n",
              "      <td>18.000000</td>\n",
              "      <td>0.000000</td>\n",
              "      <td>0.000000</td>\n",
              "      <td>0.000000</td>\n",
              "      <td>0.000000</td>\n",
              "      <td>0.000000</td>\n",
              "      <td>0.000000</td>\n",
              "      <td>3.000000</td>\n",
              "      <td>0.000000</td>\n",
              "      <td>0.000000</td>\n",
              "      <td>0.000000</td>\n",
              "      <td>0.000000</td>\n",
              "      <td>0.000000</td>\n",
              "      <td>4.000000</td>\n",
              "      <td>0.000000</td>\n",
              "      <td>0.000000</td>\n",
              "      <td>0.000000</td>\n",
              "      <td>0.000000</td>\n",
              "      <td>1.000000</td>\n",
              "    </tr>\n",
              "    <tr>\n",
              "      <th>25%</th>\n",
              "      <td>23.000000</td>\n",
              "      <td>0.000000</td>\n",
              "      <td>4.000000</td>\n",
              "      <td>23.000000</td>\n",
              "      <td>0.000000</td>\n",
              "      <td>0.000000</td>\n",
              "      <td>0.000000</td>\n",
              "      <td>5.000000</td>\n",
              "      <td>1.000000</td>\n",
              "      <td>0.000000</td>\n",
              "      <td>487.000000</td>\n",
              "      <td>8.000000</td>\n",
              "      <td>3.300000</td>\n",
              "      <td>5.000000</td>\n",
              "      <td>1.000000</td>\n",
              "      <td>3.000000</td>\n",
              "      <td>1.000000</td>\n",
              "      <td>0.000000</td>\n",
              "      <td>1637.750000</td>\n",
              "    </tr>\n",
              "    <tr>\n",
              "      <th>50%</th>\n",
              "      <td>25.000000</td>\n",
              "      <td>0.000000</td>\n",
              "      <td>4.000000</td>\n",
              "      <td>23.000000</td>\n",
              "      <td>2.000000</td>\n",
              "      <td>2.000000</td>\n",
              "      <td>0.000000</td>\n",
              "      <td>12.000000</td>\n",
              "      <td>1.000000</td>\n",
              "      <td>0.000000</td>\n",
              "      <td>651.000000</td>\n",
              "      <td>9.000000</td>\n",
              "      <td>4.000000</td>\n",
              "      <td>5.000000</td>\n",
              "      <td>4.000000</td>\n",
              "      <td>4.000000</td>\n",
              "      <td>2.000000</td>\n",
              "      <td>0.000000</td>\n",
              "      <td>3274.500000</td>\n",
              "    </tr>\n",
              "    <tr>\n",
              "      <th>75%</th>\n",
              "      <td>29.000000</td>\n",
              "      <td>1.000000</td>\n",
              "      <td>4.000000</td>\n",
              "      <td>23.000000</td>\n",
              "      <td>3.000000</td>\n",
              "      <td>3.000000</td>\n",
              "      <td>0.000000</td>\n",
              "      <td>19.000000</td>\n",
              "      <td>1.000000</td>\n",
              "      <td>0.000000</td>\n",
              "      <td>738.000000</td>\n",
              "      <td>9.000000</td>\n",
              "      <td>4.510000</td>\n",
              "      <td>5.000000</td>\n",
              "      <td>4.000000</td>\n",
              "      <td>4.000000</td>\n",
              "      <td>2.000000</td>\n",
              "      <td>0.000000</td>\n",
              "      <td>4911.250000</td>\n",
              "    </tr>\n",
              "    <tr>\n",
              "      <th>max</th>\n",
              "      <td>57.000000</td>\n",
              "      <td>1.000000</td>\n",
              "      <td>13.000000</td>\n",
              "      <td>92.000000</td>\n",
              "      <td>3.000000</td>\n",
              "      <td>3.000000</td>\n",
              "      <td>1.000000</td>\n",
              "      <td>292.000000</td>\n",
              "      <td>1.000000</td>\n",
              "      <td>5.000000</td>\n",
              "      <td>871.000000</td>\n",
              "      <td>9.000000</td>\n",
              "      <td>100.000000</td>\n",
              "      <td>100.000000</td>\n",
              "      <td>6.000000</td>\n",
              "      <td>4.000000</td>\n",
              "      <td>2.000000</td>\n",
              "      <td>1.000000</td>\n",
              "      <td>6548.000000</td>\n",
              "    </tr>\n",
              "  </tbody>\n",
              "</table>\n",
              "</div>\n",
              "    <div class=\"colab-df-buttons\">\n",
              "\n",
              "  <div class=\"colab-df-container\">\n",
              "    <button class=\"colab-df-convert\" onclick=\"convertToInteractive('df-4447becb-71c7-406f-9511-fe8674417fb3')\"\n",
              "            title=\"Convert this dataframe to an interactive table.\"\n",
              "            style=\"display:none;\">\n",
              "\n",
              "  <svg xmlns=\"http://www.w3.org/2000/svg\" height=\"24px\" viewBox=\"0 -960 960 960\">\n",
              "    <path d=\"M120-120v-720h720v720H120Zm60-500h600v-160H180v160Zm220 220h160v-160H400v160Zm0 220h160v-160H400v160ZM180-400h160v-160H180v160Zm440 0h160v-160H620v160ZM180-180h160v-160H180v160Zm440 0h160v-160H620v160Z\"/>\n",
              "  </svg>\n",
              "    </button>\n",
              "\n",
              "  <style>\n",
              "    .colab-df-container {\n",
              "      display:flex;\n",
              "      gap: 12px;\n",
              "    }\n",
              "\n",
              "    .colab-df-convert {\n",
              "      background-color: #E8F0FE;\n",
              "      border: none;\n",
              "      border-radius: 50%;\n",
              "      cursor: pointer;\n",
              "      display: none;\n",
              "      fill: #1967D2;\n",
              "      height: 32px;\n",
              "      padding: 0 0 0 0;\n",
              "      width: 32px;\n",
              "    }\n",
              "\n",
              "    .colab-df-convert:hover {\n",
              "      background-color: #E2EBFA;\n",
              "      box-shadow: 0px 1px 2px rgba(60, 64, 67, 0.3), 0px 1px 3px 1px rgba(60, 64, 67, 0.15);\n",
              "      fill: #174EA6;\n",
              "    }\n",
              "\n",
              "    .colab-df-buttons div {\n",
              "      margin-bottom: 4px;\n",
              "    }\n",
              "\n",
              "    [theme=dark] .colab-df-convert {\n",
              "      background-color: #3B4455;\n",
              "      fill: #D2E3FC;\n",
              "    }\n",
              "\n",
              "    [theme=dark] .colab-df-convert:hover {\n",
              "      background-color: #434B5C;\n",
              "      box-shadow: 0px 1px 3px 1px rgba(0, 0, 0, 0.15);\n",
              "      filter: drop-shadow(0px 1px 2px rgba(0, 0, 0, 0.3));\n",
              "      fill: #FFFFFF;\n",
              "    }\n",
              "  </style>\n",
              "\n",
              "    <script>\n",
              "      const buttonEl =\n",
              "        document.querySelector('#df-4447becb-71c7-406f-9511-fe8674417fb3 button.colab-df-convert');\n",
              "      buttonEl.style.display =\n",
              "        google.colab.kernel.accessAllowed ? 'block' : 'none';\n",
              "\n",
              "      async function convertToInteractive(key) {\n",
              "        const element = document.querySelector('#df-4447becb-71c7-406f-9511-fe8674417fb3');\n",
              "        const dataTable =\n",
              "          await google.colab.kernel.invokeFunction('convertToInteractive',\n",
              "                                                    [key], {});\n",
              "        if (!dataTable) return;\n",
              "\n",
              "        const docLinkHtml = 'Like what you see? Visit the ' +\n",
              "          '<a target=\"_blank\" href=https://colab.research.google.com/notebooks/data_table.ipynb>data table notebook</a>'\n",
              "          + ' to learn more about interactive tables.';\n",
              "        element.innerHTML = '';\n",
              "        dataTable['output_type'] = 'display_data';\n",
              "        await google.colab.output.renderOutput(dataTable, element);\n",
              "        const docLink = document.createElement('div');\n",
              "        docLink.innerHTML = docLinkHtml;\n",
              "        element.appendChild(docLink);\n",
              "      }\n",
              "    </script>\n",
              "  </div>\n",
              "\n",
              "\n",
              "<div id=\"df-d623d33c-8e88-4f52-9ddc-6fd2f4942341\">\n",
              "  <button class=\"colab-df-quickchart\" onclick=\"quickchart('df-d623d33c-8e88-4f52-9ddc-6fd2f4942341')\"\n",
              "            title=\"Suggest charts\"\n",
              "            style=\"display:none;\">\n",
              "\n",
              "<svg xmlns=\"http://www.w3.org/2000/svg\" height=\"24px\"viewBox=\"0 0 24 24\"\n",
              "     width=\"24px\">\n",
              "    <g>\n",
              "        <path d=\"M19 3H5c-1.1 0-2 .9-2 2v14c0 1.1.9 2 2 2h14c1.1 0 2-.9 2-2V5c0-1.1-.9-2-2-2zM9 17H7v-7h2v7zm4 0h-2V7h2v10zm4 0h-2v-4h2v4z\"/>\n",
              "    </g>\n",
              "</svg>\n",
              "  </button>\n",
              "\n",
              "<style>\n",
              "  .colab-df-quickchart {\n",
              "      --bg-color: #E8F0FE;\n",
              "      --fill-color: #1967D2;\n",
              "      --hover-bg-color: #E2EBFA;\n",
              "      --hover-fill-color: #174EA6;\n",
              "      --disabled-fill-color: #AAA;\n",
              "      --disabled-bg-color: #DDD;\n",
              "  }\n",
              "\n",
              "  [theme=dark] .colab-df-quickchart {\n",
              "      --bg-color: #3B4455;\n",
              "      --fill-color: #D2E3FC;\n",
              "      --hover-bg-color: #434B5C;\n",
              "      --hover-fill-color: #FFFFFF;\n",
              "      --disabled-bg-color: #3B4455;\n",
              "      --disabled-fill-color: #666;\n",
              "  }\n",
              "\n",
              "  .colab-df-quickchart {\n",
              "    background-color: var(--bg-color);\n",
              "    border: none;\n",
              "    border-radius: 50%;\n",
              "    cursor: pointer;\n",
              "    display: none;\n",
              "    fill: var(--fill-color);\n",
              "    height: 32px;\n",
              "    padding: 0;\n",
              "    width: 32px;\n",
              "  }\n",
              "\n",
              "  .colab-df-quickchart:hover {\n",
              "    background-color: var(--hover-bg-color);\n",
              "    box-shadow: 0 1px 2px rgba(60, 64, 67, 0.3), 0 1px 3px 1px rgba(60, 64, 67, 0.15);\n",
              "    fill: var(--button-hover-fill-color);\n",
              "  }\n",
              "\n",
              "  .colab-df-quickchart-complete:disabled,\n",
              "  .colab-df-quickchart-complete:disabled:hover {\n",
              "    background-color: var(--disabled-bg-color);\n",
              "    fill: var(--disabled-fill-color);\n",
              "    box-shadow: none;\n",
              "  }\n",
              "\n",
              "  .colab-df-spinner {\n",
              "    border: 2px solid var(--fill-color);\n",
              "    border-color: transparent;\n",
              "    border-bottom-color: var(--fill-color);\n",
              "    animation:\n",
              "      spin 1s steps(1) infinite;\n",
              "  }\n",
              "\n",
              "  @keyframes spin {\n",
              "    0% {\n",
              "      border-color: transparent;\n",
              "      border-bottom-color: var(--fill-color);\n",
              "      border-left-color: var(--fill-color);\n",
              "    }\n",
              "    20% {\n",
              "      border-color: transparent;\n",
              "      border-left-color: var(--fill-color);\n",
              "      border-top-color: var(--fill-color);\n",
              "    }\n",
              "    30% {\n",
              "      border-color: transparent;\n",
              "      border-left-color: var(--fill-color);\n",
              "      border-top-color: var(--fill-color);\n",
              "      border-right-color: var(--fill-color);\n",
              "    }\n",
              "    40% {\n",
              "      border-color: transparent;\n",
              "      border-right-color: var(--fill-color);\n",
              "      border-top-color: var(--fill-color);\n",
              "    }\n",
              "    60% {\n",
              "      border-color: transparent;\n",
              "      border-right-color: var(--fill-color);\n",
              "    }\n",
              "    80% {\n",
              "      border-color: transparent;\n",
              "      border-right-color: var(--fill-color);\n",
              "      border-bottom-color: var(--fill-color);\n",
              "    }\n",
              "    90% {\n",
              "      border-color: transparent;\n",
              "      border-bottom-color: var(--fill-color);\n",
              "    }\n",
              "  }\n",
              "</style>\n",
              "\n",
              "  <script>\n",
              "    async function quickchart(key) {\n",
              "      const quickchartButtonEl =\n",
              "        document.querySelector('#' + key + ' button');\n",
              "      quickchartButtonEl.disabled = true;  // To prevent multiple clicks.\n",
              "      quickchartButtonEl.classList.add('colab-df-spinner');\n",
              "      try {\n",
              "        const charts = await google.colab.kernel.invokeFunction(\n",
              "            'suggestCharts', [key], {});\n",
              "      } catch (error) {\n",
              "        console.error('Error during call to suggestCharts:', error);\n",
              "      }\n",
              "      quickchartButtonEl.classList.remove('colab-df-spinner');\n",
              "      quickchartButtonEl.classList.add('colab-df-quickchart-complete');\n",
              "    }\n",
              "    (() => {\n",
              "      let quickchartButtonEl =\n",
              "        document.querySelector('#df-d623d33c-8e88-4f52-9ddc-6fd2f4942341 button');\n",
              "      quickchartButtonEl.style.display =\n",
              "        google.colab.kernel.accessAllowed ? 'block' : 'none';\n",
              "    })();\n",
              "  </script>\n",
              "</div>\n",
              "\n",
              "    </div>\n",
              "  </div>\n"
            ],
            "application/vnd.google.colaboratory.intrinsic+json": {
              "type": "dataframe",
              "summary": "{\n  \"name\": \"train\",\n  \"rows\": 8,\n  \"fields\": [\n    {\n      \"column\": \"Age\",\n      \"properties\": {\n        \"dtype\": \"number\",\n        \"std\": 2273.2747022094213,\n        \"min\": 5.535967454120554,\n        \"max\": 6456.0,\n        \"num_unique_values\": 8,\n        \"samples\": [\n          26.83116480793061,\n          25.0,\n          6456.0\n        ],\n        \"semantic_type\": \"\",\n        \"description\": \"\"\n      }\n    },\n    {\n      \"column\": \"Gender\",\n      \"properties\": {\n        \"dtype\": \"number\",\n        \"std\": 2314.9193021446804,\n        \"min\": 0.0,\n        \"max\": 6548.0,\n        \"num_unique_values\": 5,\n        \"samples\": [\n          0.44043982895540623,\n          1.0,\n          0.49647782389094613\n        ],\n        \"semantic_type\": \"\",\n        \"description\": \"\"\n      }\n    },\n    {\n      \"column\": \"Home Region\",\n      \"properties\": {\n        \"dtype\": \"number\",\n        \"std\": 2313.4384419136722,\n        \"min\": 0.0,\n        \"max\": 6548.0,\n        \"num_unique_values\": 6,\n        \"samples\": [\n          6548.0,\n          4.685247403787416,\n          13.0\n        ],\n        \"semantic_type\": \"\",\n        \"description\": \"\"\n      }\n    },\n    {\n      \"column\": \"Home City\",\n      \"properties\": {\n        \"dtype\": \"number\",\n        \"std\": 2304.8960510975708,\n        \"min\": 0.0,\n        \"max\": 6548.0,\n        \"num_unique_values\": 6,\n        \"samples\": [\n          6548.0,\n          28.03069639584606,\n          92.0\n        ],\n        \"semantic_type\": \"\",\n        \"description\": \"\"\n      }\n    },\n    {\n      \"column\": \"Technology Type\",\n      \"properties\": {\n        \"dtype\": \"number\",\n        \"std\": 2314.513629698517,\n        \"min\": 0.0,\n        \"max\": 6548.0,\n        \"num_unique_values\": 6,\n        \"samples\": [\n          6548.0,\n          1.5668906536346976,\n          3.0\n        ],\n        \"semantic_type\": \"\",\n        \"description\": \"\"\n      }\n    },\n    {\n      \"column\": \"Program Skill Level\",\n      \"properties\": {\n        \"dtype\": \"number\",\n        \"std\": 2314.5279828713274,\n        \"min\": 0.0,\n        \"max\": 6548.0,\n        \"num_unique_values\": 6,\n        \"samples\": [\n          6548.0,\n          1.5140500916310324,\n          3.0\n        ],\n        \"semantic_type\": \"\",\n        \"description\": \"\"\n      }\n    },\n    {\n      \"column\": \"Program Presentation Method\",\n      \"properties\": {\n        \"dtype\": \"number\",\n        \"std\": 2314.983270990099,\n        \"min\": 0.0,\n        \"max\": 6548.0,\n        \"num_unique_values\": 5,\n        \"samples\": [\n          0.241905925473427,\n          1.0,\n          0.42827031137760146\n        ],\n        \"semantic_type\": \"\",\n        \"description\": \"\"\n      }\n    },\n    {\n      \"column\": \"Program Days\",\n      \"properties\": {\n        \"dtype\": \"number\",\n        \"std\": 2297.794623319895,\n        \"min\": 3.0,\n        \"max\": 6548.0,\n        \"num_unique_values\": 8,\n        \"samples\": [\n          19.691661576053757,\n          12.0,\n          6548.0\n        ],\n        \"semantic_type\": \"\",\n        \"description\": \"\"\n      }\n    },\n    {\n      \"column\": \"Completed Degree\",\n      \"properties\": {\n        \"dtype\": \"number\",\n        \"std\": 2314.8050540814634,\n        \"min\": 0.0,\n        \"max\": 6548.0,\n        \"num_unique_values\": 5,\n        \"samples\": [\n          0.7950519242516799,\n          1.0,\n          0.40369450132059015\n        ],\n        \"semantic_type\": \"\",\n        \"description\": \"\"\n      }\n    },\n    {\n      \"column\": \"Level of Education\",\n      \"properties\": {\n        \"dtype\": \"number\",\n        \"std\": 2314.7353565534545,\n        \"min\": 0.0,\n        \"max\": 6548.0,\n        \"num_unique_values\": 5,\n        \"samples\": [\n          0.46227855833842396,\n          5.0,\n          1.1282291404755938\n        ],\n        \"semantic_type\": \"\",\n        \"description\": \"\"\n      }\n    },\n    {\n      \"column\": \"Education Speaciality\",\n      \"properties\": {\n        \"dtype\": \"number\",\n        \"std\": 2155.2597525904403,\n        \"min\": 0.0,\n        \"max\": 6548.0,\n        \"num_unique_values\": 8,\n        \"samples\": [\n          559.4660965180208,\n          651.0,\n          6548.0\n        ],\n        \"semantic_type\": \"\",\n        \"description\": \"\"\n      }\n    },\n    {\n      \"column\": \"College\",\n      \"properties\": {\n        \"dtype\": \"number\",\n        \"std\": 2312.8057563445477,\n        \"min\": 0.0,\n        \"max\": 6548.0,\n        \"num_unique_values\": 6,\n        \"samples\": [\n          6548.0,\n          8.322693952351862,\n          9.0\n        ],\n        \"semantic_type\": \"\",\n        \"description\": \"\"\n      }\n    },\n    {\n      \"column\": \"University Degree Score\",\n      \"properties\": {\n        \"dtype\": \"number\",\n        \"std\": 2279.6431198607756,\n        \"min\": 0.0,\n        \"max\": 6467.0,\n        \"num_unique_values\": 8,\n        \"samples\": [\n          8.224432348847998,\n          4.0,\n          6467.0\n        ],\n        \"semantic_type\": \"\",\n        \"description\": \"\"\n      }\n    },\n    {\n      \"column\": \"University Degree Score System\",\n      \"properties\": {\n        \"dtype\": \"number\",\n        \"std\": 2279.0845695273174,\n        \"min\": 4.0,\n        \"max\": 6467.0,\n        \"num_unique_values\": 6,\n        \"samples\": [\n          6467.0,\n          9.773929178908304,\n          100.0\n        ],\n        \"semantic_type\": \"\",\n        \"description\": \"\"\n      }\n    },\n    {\n      \"column\": \"Employment Status\",\n      \"properties\": {\n        \"dtype\": \"number\",\n        \"std\": 2314.0706773564575,\n        \"min\": 0.0,\n        \"max\": 6548.0,\n        \"num_unique_values\": 7,\n        \"samples\": [\n          6548.0,\n          2.9751069028711057,\n          4.0\n        ],\n        \"semantic_type\": \"\",\n        \"description\": \"\"\n      }\n    },\n    {\n      \"column\": \"Job Type\",\n      \"properties\": {\n        \"dtype\": \"number\",\n        \"std\": 2314.080988961837,\n        \"min\": 0.0,\n        \"max\": 6548.0,\n        \"num_unique_values\": 6,\n        \"samples\": [\n          6548.0,\n          3.455711667684789,\n          4.0\n        ],\n        \"semantic_type\": \"\",\n        \"description\": \"\"\n      }\n    },\n    {\n      \"column\": \"Still Working\",\n      \"properties\": {\n        \"dtype\": \"number\",\n        \"std\": 2314.5995701915763,\n        \"min\": 0.0,\n        \"max\": 6548.0,\n        \"num_unique_values\": 6,\n        \"samples\": [\n          6548.0,\n          1.5852168601099572,\n          2.0\n        ],\n        \"semantic_type\": \"\",\n        \"description\": \"\"\n      }\n    },\n    {\n      \"column\": \"Y\",\n      \"properties\": {\n        \"dtype\": \"number\",\n        \"std\": 2314.9906497309275,\n        \"min\": 0.0,\n        \"max\": 6548.0,\n        \"num_unique_values\": 5,\n        \"samples\": [\n          0.15867440439828956,\n          1.0,\n          0.3654000934905779\n        ],\n        \"semantic_type\": \"\",\n        \"description\": \"\"\n      }\n    },\n    {\n      \"column\": \"ID\",\n      \"properties\": {\n        \"dtype\": \"number\",\n        \"std\": 2359.6260877740724,\n        \"min\": 1.0,\n        \"max\": 6548.0,\n        \"num_unique_values\": 6,\n        \"samples\": [\n          6548.0,\n          3274.5,\n          4911.25\n        ],\n        \"semantic_type\": \"\",\n        \"description\": \"\"\n      }\n    }\n  ]\n}"
            }
          },
          "metadata": {},
          "execution_count": 18
        }
      ]
    },
    {
      "cell_type": "code",
      "source": [
        "import seaborn as sns\n",
        "import matplotlib.pyplot as plt"
      ],
      "metadata": {
        "id": "9cYuFLlDKyqn"
      },
      "execution_count": 19,
      "outputs": []
    },
    {
      "cell_type": "code",
      "source": [
        "plt.figure(figsize=(10,4))\n",
        "plt.xlim(15, 40)\n",
        "sns.boxplot(x=train.Age)"
      ],
      "metadata": {
        "colab": {
          "base_uri": "https://localhost:8080/",
          "height": 405
        },
        "id": "rPXBtAFLKp4C",
        "outputId": "d12b1cbd-2eeb-436a-d146-f50d1f63c4e6"
      },
      "execution_count": 23,
      "outputs": [
        {
          "output_type": "execute_result",
          "data": {
            "text/plain": [
              "<Axes: xlabel='Age'>"
            ]
          },
          "metadata": {},
          "execution_count": 23
        },
        {
          "output_type": "display_data",
          "data": {
            "text/plain": [
              "<Figure size 1000x400 with 1 Axes>"
            ],
            "image/png": "[encoded data removed]"
          },
          "metadata": {}
        }
      ]
    },
    {
      "cell_type": "code",
      "source": [
        "from sklearn.model_selection import train_test_split\n",
        "from sklearn.metrics import f1_score,precision_score,recall_score\n",
        "from xgboost import XGBClassifier\n",
        "from sklearn.svm import SVC, LinearSVC\n",
        "from sklearn.ensemble import RandomForestClassifier,HistGradientBoostingClassifier\n",
        "from sklearn.neighbors import KNeighborsClassifier\n",
        "from sklearn.naive_bayes import GaussianNB\n",
        "from sklearn.linear_model import Perceptron\n",
        "from sklearn.linear_model import SGDClassifier\n",
        "from sklearn.linear_model import LogisticRegression\n",
        "from sklearn.tree import DecisionTreeClassifier\n",
        "from xgboost import XGBClassifier\n",
        "from lightgbm import LGBMClassifier\n",
        "# from catboost import CatBoostClassifier"
      ],
      "metadata": {
        "id": "3nhhvICEFwRs"
      },
      "execution_count": null,
      "outputs": []
    },
    {
      "cell_type": "code",
      "source": [
        "!pip install catboost"
      ],
      "metadata": {
        "id": "d5zNZ_yFxozI"
      },
      "execution_count": null,
      "outputs": []
    },
    {
      "cell_type": "code",
      "source": [
        "from catboost import CatBoostClassifier"
      ],
      "metadata": {
        "id": "3Hhzd1kOxx1b"
      },
      "execution_count": null,
      "outputs": []
    },
    {
      "cell_type": "code",
      "source": [
        "X=train.drop('Y',axis=1)\n",
        "y=train['Y'].copy()\n",
        "X_train,X_test,y_train,y_test=train_test_split(X,y,test_size=0.2,random_state=10)"
      ],
      "metadata": {
        "id": "nAFQjYnDE5dY"
      },
      "execution_count": null,
      "outputs": []
    },
    {
      "cell_type": "code",
      "source": [
        "xg=  CatBoostClassifier()\n",
        "xg.fit(X_train,y_train)\n",
        "y_pred=xg.predict(X_test)\n",
        "result=f1_score(y_pred,y_test)\n",
        "\n",
        "print(result)\n"
      ],
      "metadata": {
        "id": "siwLlz6BFlVK"
      },
      "execution_count": null,
      "outputs": []
    },
    {
      "cell_type": "code",
      "source": [
        "xg.fit(X,y)\n",
        "test['Y']=xg.predict(test)"
      ],
      "metadata": {
        "id": "xfX4i_cPHGvv"
      },
      "execution_count": null,
      "outputs": []
    },
    {
      "cell_type": "code",
      "source": [
        "submission=pd.DataFrame({\"ID\":test['ID'],\"Y\":test[\"Y\"]})"
      ],
      "metadata": {
        "id": "b4_GS_wQHP2M"
      },
      "execution_count": null,
      "outputs": []
    },
    {
      "cell_type": "code",
      "source": [
        "submission.to_csv(\"score609.csv\",index=False)"
      ],
      "metadata": {
        "id": "W1uCcvg6HkB1"
      },
      "execution_count": null,
      "outputs": []
    }
  ]
}